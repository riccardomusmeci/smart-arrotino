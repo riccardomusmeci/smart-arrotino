{
 "cells": [
  {
   "cell_type": "code",
   "execution_count": null,
   "metadata": {},
   "outputs": [],
   "source": [
    "import os\n",
    "import random\n",
    "from tqdm import tqdm\n",
    "from shutil import copy, copytree\n",
    "\n",
    "random.seed(42)"
   ]
  },
  {
   "cell_type": "markdown",
   "metadata": {},
   "source": [
    "Defining v1, train and val dir"
   ]
  },
  {
   "cell_type": "code",
   "execution_count": null,
   "metadata": {},
   "outputs": [],
   "source": [
    "dataset_dir = \"PATH/TO/YOUR/DATASET\"\n",
    "v1_dir = os.path.join(dataset_dir, \"v1\")\n",
    "train_dir = os.path.join(dataset_dir, \"train\")\n",
    "val_dir = os.path.join(dataset_dir, \"val\")\n",
    "\n",
    "os.makedirs(train_dir, exist_ok=True)\n",
    "os.makedirs(val_dir, exist_ok=True)"
   ]
  },
  {
   "cell_type": "markdown",
   "metadata": {},
   "source": [
    "Splitting into train and val dataset"
   ]
  },
  {
   "cell_type": "code",
   "execution_count": null,
   "metadata": {},
   "outputs": [],
   "source": [
    "images = [os.path.join(v1_dir, image) for image in os.listdir(v1_dir)]\n",
    "random.shuffle(images)\n",
    "\n",
    "TRAIN_SIZE = int(.8*len(images))\n",
    "train_images = images[:TRAIN_SIZE]\n",
    "val_images = images[TRAIN_SIZE:]\n",
    "\n",
    "print(len(train_images), len(val_images))"
   ]
  },
  {
   "cell_type": "markdown",
   "metadata": {},
   "source": [
    "Copying data into train and val folder"
   ]
  },
  {
   "cell_type": "code",
   "execution_count": null,
   "metadata": {},
   "outputs": [],
   "source": [
    "print(\"Copying image from v1 to train dir\")\n",
    "for img in tqdm(train_images, total=len(train_images)):\n",
    "    _path = os.path.join(train_dir, img.split(\"/\")[-1])\n",
    "    copytree(img, _path)\n"
   ]
  },
  {
   "cell_type": "code",
   "execution_count": null,
   "metadata": {},
   "outputs": [],
   "source": [
    "print(\"Copying image from v1 to val dir\")\n",
    "for img in tqdm(val_images, total=len(val_images)):\n",
    "    _path = os.path.join(val_dir, img.split(\"/\")[-1])\n",
    "    copytree(img, _path)\n"
   ]
  }
 ],
 "metadata": {
  "interpreter": {
   "hash": "73c89cbd1933bceac1c956f0c1220af12e7bc5f0f009bc20d431726764063097"
  },
  "kernelspec": {
   "display_name": "Python 3.9.10 ('venv': venv)",
   "language": "python",
   "name": "python3"
  },
  "language_info": {
   "codemirror_mode": {
    "name": "ipython",
    "version": 3
   },
   "file_extension": ".py",
   "mimetype": "text/x-python",
   "name": "python",
   "nbconvert_exporter": "python",
   "pygments_lexer": "ipython3",
   "version": "3.9.10"
  },
  "orig_nbformat": 4
 },
 "nbformat": 4,
 "nbformat_minor": 2
}
